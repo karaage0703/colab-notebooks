{
  "nbformat": 4,
  "nbformat_minor": 0,
  "metadata": {
    "colab": {
      "provenance": [],
      "authorship_tag": "ABX9TyPrKeSdqqK+wkLWLv2f/5eH",
      "include_colab_link": true
    },
    "kernelspec": {
      "name": "python3",
      "display_name": "Python 3"
    },
    "language_info": {
      "name": "python"
    }
  },
  "cells": [
    {
      "cell_type": "markdown",
      "metadata": {
        "id": "view-in-github",
        "colab_type": "text"
      },
      "source": [
        "<a href=\"https://colab.research.google.com/github/karaage0703/colab-notebooks/blob/main/openai_billing_insights.ipynb\" target=\"_parent\"><img src=\"https://colab.research.google.com/assets/colab-badge.svg\" alt=\"Open In Colab\"/></a>"
      ]
    },
    {
      "cell_type": "markdown",
      "source": [
        "# OpenAI Billing Insights\n",
        "\n",
        "References:\n",
        "\n",
        "- https://github.com/KazuyaIriguchi/openai-billing-insights\n",
        "\n",
        "License:\n",
        "\n",
        "same as https://github.com/KazuyaIriguchi/openai-billing-insights"
      ],
      "metadata": {
        "id": "mGiEMjaByLr9"
      }
    },
    {
      "cell_type": "markdown",
      "source": [
        "Import library"
      ],
      "metadata": {
        "id": "XS4hunuVWJlF"
      }
    },
    {
      "cell_type": "code",
      "execution_count": null,
      "metadata": {
        "id": "4pc6pZdExXP-"
      },
      "outputs": [],
      "source": [
        "import requests\n",
        "from datetime import datetime, timedelta\n",
        "from collections import defaultdict\n",
        "import matplotlib.pyplot as plt"
      ]
    },
    {
      "cell_type": "markdown",
      "source": [
        "Input open ai key"
      ],
      "metadata": {
        "id": "UdF-BiGdV7Ik"
      }
    },
    {
      "cell_type": "code",
      "source": [
        "OPEN_API_KEY = ''"
      ],
      "metadata": {
        "id": "IoL9Im2ayitQ"
      },
      "execution_count": null,
      "outputs": []
    },
    {
      "cell_type": "markdown",
      "source": [
        "Input check date"
      ],
      "metadata": {
        "id": "03UmQGpRV9Is"
      }
    },
    {
      "cell_type": "code",
      "source": [
        "# today example\n",
        "check_date = datetime.today().date()\n",
        "\n",
        "# other day\n",
        "# check_date = '2023-08-01'"
      ],
      "metadata": {
        "id": "8tPEtY-zWC1I"
      },
      "execution_count": null,
      "outputs": []
    },
    {
      "cell_type": "markdown",
      "source": [
        "Define model price\n",
        "\n",
        "Reference: https://openai.com/pricing"
      ],
      "metadata": {
        "id": "cWARkf28V-w5"
      }
    },
    {
      "cell_type": "code",
      "source": [
        "model_pricing = {\n",
        "  \"gpt-3.5-turbo-0301\": {\n",
        "    \"context\": 0.0015,\n",
        "    \"generated\": 0.002,\n",
        "    \"per_tokens\": 1000\n",
        "  },\n",
        "  \"gpt-3.5-turbo-0613\": {\n",
        "    \"context\": 0.0015,\n",
        "    \"generated\": 0.002,\n",
        "    \"per_tokens\": 1000\n",
        "  },\n",
        "  \"gpt-3.5-turbo-16k\": {\n",
        "    \"context\": 0.003,\n",
        "    \"generated\": 0.004,\n",
        "    \"per_tokens\": 1000\n",
        "  },\n",
        "  \"gpt-3.5-turbo-16k-0613\": {\n",
        "    \"context\": 0.003,\n",
        "    \"generated\": 0.004,\n",
        "    \"per_tokens\": 1000\n",
        "  },\n",
        "  \"gpt-4-0314\": {\n",
        "    \"context\": 0.03,\n",
        "    \"generated\": 0.06,\n",
        "    \"per_tokens\": 1000\n",
        "  },\n",
        "  \"gpt-4-0613\": {\n",
        "    \"context\": 0.03,\n",
        "    \"generated\": 0.06,\n",
        "    \"per_tokens\": 1000\n",
        "  },\n",
        "  \"gpt-4-32k\": {\n",
        "    \"context\": 0.06,\n",
        "    \"generated\": 0.12,\n",
        "    \"per_tokens\": 1000\n",
        "  },\n",
        "  \"gpt-4-32k-0314\": {\n",
        "    \"context\": 0.06,\n",
        "    \"generated\": 0.12,\n",
        "    \"per_tokens\": 1000\n",
        "  },\n",
        "  \"gpt-4-32k-0613\": {\n",
        "    \"context\": 0.06,\n",
        "    \"generated\": 0.12,\n",
        "    \"per_tokens\": 1000\n",
        "  },\n",
        "  \"whisper-1\": {\n",
        "    \"context\": 0.006,\n",
        "    \"generated\": 0,\n",
        "    \"per_minutes\": 1\n",
        "  },\n",
        "  \"text-embedding-ada-002-v2\": {\n",
        "    \"context\": 0.0001,\n",
        "    \"generated\": 0,\n",
        "    \"per_tokens\": 1000\n",
        "  },\n",
        "  \"text-davinci:001\": {\n",
        "    \"context\": 0.02,\n",
        "    \"generated\": 0.02,\n",
        "    \"per_tokens\": 1000\n",
        "  },\n",
        "  \"text-davinci:002\": {\n",
        "    \"context\": 0.02,\n",
        "    \"generated\": 0.02,\n",
        "    \"per_tokens\": 1000\n",
        "  },\n",
        "  \"text-davinci:003\": {\n",
        "    \"context\": 0.02,\n",
        "    \"generated\": 0.02,\n",
        "    \"per_tokens\": 1000\n",
        "  }\n",
        "}"
      ],
      "metadata": {
        "id": "fi_OhkZuTJPF"
      },
      "execution_count": null,
      "outputs": []
    },
    {
      "cell_type": "markdown",
      "source": [
        "Define function"
      ],
      "metadata": {
        "id": "hzI46VQVWWOi"
      }
    },
    {
      "cell_type": "code",
      "source": [
        "def call_usage_api(date: str) -> requests.Response:\n",
        "    \"\"\"一日の使用状況を取得\n",
        "\n",
        "    Args:\n",
        "        date (str): 日付(YYYY-mm-dd)\n",
        "\n",
        "    Returns:\n",
        "        requests.Response: レスポンス\n",
        "    \"\"\"\n",
        "    # エンドポイントとヘッダーの設定\n",
        "    url = \"https://api.openai.com/v1/usage\"\n",
        "    headers = {\"Authorization\": f\"Bearer {OPEN_API_KEY}\"}\n",
        "    params = {\"date\": date}\n",
        "\n",
        "    try:\n",
        "        # APIリクエストの実行\n",
        "        response = requests.get(url, headers=headers, params=params)\n",
        "        return response\n",
        "    except Exception as e:\n",
        "        print(e)\n",
        "        return e\n",
        "\n",
        "def get_model_costs(data: dict) -> dict:\n",
        "    \"\"\"GPTモデルのコストを取得\n",
        "\n",
        "    Args:\n",
        "        data (dict): 一日の使用状況データ\n",
        "\n",
        "    Returns:\n",
        "        dict: GPTモデルごとのコスト\n",
        "    \"\"\"\n",
        "    # 各モデルの統計を保存する辞書\n",
        "    model_stats = defaultdict(lambda: {'n_context_tokens_total': 0, 'n_generated_tokens_total': 0})\n",
        "\n",
        "    # データの各エントリをループして、各モデルの統計を計算\n",
        "    for entry in data['data']:\n",
        "        snapshot_id = entry['snapshot_id']\n",
        "        model_stats[snapshot_id]['n_context_tokens_total'] += entry['n_context_tokens_total']\n",
        "        model_stats[snapshot_id]['n_generated_tokens_total'] += entry['n_generated_tokens_total']\n",
        "\n",
        "    # 各モデルのコストを計算\n",
        "    model_costs = {}\n",
        "    for model, stats in model_stats.items():\n",
        "        try:\n",
        "            cost_rate = model_pricing[model]\n",
        "            context_token_cost = stats['n_context_tokens_total'] * (cost_rate['context'] / cost_rate[\"per_tokens\"])\n",
        "            generated_token_cost = stats['n_generated_tokens_total'] * (cost_rate['generated'] / cost_rate[\"per_tokens\"])\n",
        "            total_cost = context_token_cost + generated_token_cost\n",
        "            model_costs[model] = {\n",
        "                'context_token_cost': context_token_cost,\n",
        "                'generated_token_cost': generated_token_cost,\n",
        "                'total_cost': total_cost\n",
        "           }\n",
        "        except:\n",
        "            print('error in ' + model)\n",
        "    model_costs[\"total_costs\"] = sum(v[\"total_cost\"] for k, v in model_costs.items())\n",
        "    return model_costs\n",
        "\n",
        "def get_whisper_costs(data: dict) -> dict:\n",
        "    \"\"\"Whisperのコストを取得\n",
        "\n",
        "    Args:\n",
        "        data (dict): 一日の使用状況データ\n",
        "\n",
        "    Returns:\n",
        "        dict: Whisperのコストデータ\n",
        "    \"\"\"\n",
        "    whisper_data = data.get(\"whisper_api_data\", [])\n",
        "    # 合計使用秒数とコストを計算\n",
        "    whisper_cost_def = model_pricing[\"whisper-1\"]\n",
        "    total_seconds = sum(entry[\"num_seconds\"] for entry in whisper_data)\n",
        "    total_whisper_cost = (total_seconds / (whisper_cost_def[\"per_minutes\"] * 60)) * whisper_cost_def[\"context\"]\n",
        "    return {\n",
        "        \"total_seconds\": total_seconds,\n",
        "        \"total_costs\": total_whisper_cost\n",
        "    }\n",
        "\n",
        "def get_daily_usage(date: str) -> dict:\n",
        "    \"\"\"一日の使用状況、コストを取得\n",
        "\n",
        "    Args:\n",
        "        date (str): 日付(YYYY-mm-dd)\n",
        "\n",
        "    Returns:\n",
        "        dict: 使用状況・コスト\n",
        "    \"\"\"\n",
        "    # コスト取得\n",
        "    data = call_usage_api(date).json()\n",
        "\n",
        "    # GPTモデル、Whisperのコスト計算\n",
        "    # todo: fine tuning, dalleモデルへの対応\n",
        "    model_costs = get_model_costs(data)\n",
        "    whisper_costs = get_whisper_costs(data)\n",
        "    return {\n",
        "        \"total_costs\": model_costs[\"total_costs\"] + whisper_costs[\"total_costs\"],\n",
        "        \"model_costs\": model_costs,\n",
        "        \"whisper_costs\": whisper_costs\n",
        "    }"
      ],
      "metadata": {
        "id": "hWlu8E0Azrs-"
      },
      "execution_count": null,
      "outputs": []
    },
    {
      "cell_type": "markdown",
      "source": [
        "Calculate costs"
      ],
      "metadata": {
        "id": "156hPri-beLh"
      }
    },
    {
      "cell_type": "code",
      "source": [
        "data = get_daily_usage(check_date)\n",
        "models = list(data['model_costs'].keys())\n",
        "costs = [data['model_costs'][model] if model != 'total_costs' else data['total_costs'] for model in models]\n",
        "total_costs = [cost['total_cost'] if isinstance(cost, dict) else cost for cost in costs]"
      ],
      "metadata": {
        "id": "cpvipTZXVCw9"
      },
      "execution_count": null,
      "outputs": []
    },
    {
      "cell_type": "markdown",
      "source": [
        "Visualization"
      ],
      "metadata": {
        "id": "8duMZpdYbido"
      }
    },
    {
      "cell_type": "code",
      "source": [
        "plt.figure(figsize=(10, 6))\n",
        "bars = plt.bar(models, total_costs, color='blue')\n",
        "\n",
        "# Add data labels on top of each bar\n",
        "for bar in bars:\n",
        "    yval = bar.get_height()\n",
        "    plt.text(bar.get_x() + bar.get_width()/2, yval + 0.5, round(yval, 2), ha='center', va='bottom', fontsize=9)\n",
        "\n",
        "plt.xlabel('Models')\n",
        "plt.ylabel('Total Cost($)')\n",
        "plt.title('Costs of Different Models')\n",
        "plt.xticks(rotation=45, ha='right')\n",
        "plt.tight_layout()\n",
        "\n",
        "plt.show()"
      ],
      "metadata": {
        "id": "m8R5JENLPTVn"
      },
      "execution_count": null,
      "outputs": []
    }
  ]
}