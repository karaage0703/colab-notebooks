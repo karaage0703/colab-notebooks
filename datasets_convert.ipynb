{
  "nbformat": 4,
  "nbformat_minor": 0,
  "metadata": {
    "colab": {
      "provenance": [],
      "authorship_tag": "ABX9TyN4LK+Dbg8NYvCiBiBWOeyo",
      "include_colab_link": true
    },
    "kernelspec": {
      "name": "python3",
      "display_name": "Python 3"
    },
    "language_info": {
      "name": "python"
    }
  },
  "cells": [
    {
      "cell_type": "markdown",
      "metadata": {
        "id": "view-in-github",
        "colab_type": "text"
      },
      "source": [
        "<a href=\"https://colab.research.google.com/github/karaage0703/colab-notebooks/blob/main/datasets_convert.ipynb\" target=\"_parent\"><img src=\"https://colab.research.google.com/assets/colab-badge.svg\" alt=\"Open In Colab\"/></a>"
      ]
    },
    {
      "cell_type": "markdown",
      "source": [
        "# Datasetsの変換"
      ],
      "metadata": {
        "id": "T3fRLKbTYEqd"
      }
    },
    {
      "cell_type": "markdown",
      "source": [
        "## ライブラリのインストールとインポート"
      ],
      "metadata": {
        "id": "Rd4tgr6yYMo3"
      }
    },
    {
      "cell_type": "code",
      "execution_count": null,
      "metadata": {
        "id": "kfslTRnDTthV"
      },
      "outputs": [],
      "source": [
        "!pip install -qqq datasets pandas"
      ]
    },
    {
      "cell_type": "code",
      "source": [
        "from datasets import Dataset, load_dataset\n",
        "import pandas as pd\n",
        "import json"
      ],
      "metadata": {
        "id": "3qw1aGQdWLc9"
      },
      "execution_count": null,
      "outputs": []
    },
    {
      "cell_type": "markdown",
      "source": [
        "## datasetsをHugging Faceからダウンロード"
      ],
      "metadata": {
        "id": "j2T6EIsIYPbl"
      }
    },
    {
      "cell_type": "markdown",
      "source": [
        "左のサイドバーより🔑マークをクリックして、HF_TOKEN という名前で Value に Hugging Face Token を入れておいてください。"
      ],
      "metadata": {
        "id": "Jo0JO6xhWwNv"
      }
    },
    {
      "cell_type": "code",
      "source": [
        "from google.colab import userdata\n",
        "HF_TOKEN=userdata.get('HF_TOKEN')"
      ],
      "metadata": {
        "id": "YRFgnwgdWtj6"
      },
      "execution_count": null,
      "outputs": []
    },
    {
      "cell_type": "code",
      "source": [
        "datasets = load_dataset(\"elyza/ELYZA-tasks-100\")"
      ],
      "metadata": {
        "id": "ikh7yTCNWdeZ"
      },
      "execution_count": null,
      "outputs": []
    },
    {
      "cell_type": "markdown",
      "source": [
        "datasetsの中身の確認をします。"
      ],
      "metadata": {
        "id": "st1VoLwzYU-O"
      }
    },
    {
      "cell_type": "code",
      "source": [
        "datasets"
      ],
      "metadata": {
        "id": "oQDayK3hW70L"
      },
      "execution_count": null,
      "outputs": []
    },
    {
      "cell_type": "code",
      "source": [
        "datasets['test']['input'][0]"
      ],
      "metadata": {
        "id": "sbQ3d5sMW8hC"
      },
      "execution_count": null,
      "outputs": []
    },
    {
      "cell_type": "markdown",
      "source": [
        "## datasetsをリストに変換して処理"
      ],
      "metadata": {
        "id": "scw3E26IYqqm"
      }
    },
    {
      "cell_type": "markdown",
      "source": [
        "リストに変換して処理します。ここでAIを含む推論、自然言語処理をする想定です。"
      ],
      "metadata": {
        "id": "Tj3ET95cYy2h"
      }
    },
    {
      "cell_type": "code",
      "source": [
        "from tqdm import tqdm\n",
        "\n",
        "results = []\n",
        "for dt in tqdm(datasets[\"test\"]):\n",
        "    input = dt[\"input\"]\n",
        "\n",
        "    prediction = input + \"prediction\"\n",
        "\n",
        "    results.append({\"input\": input, \"output\": dt[\"output\"], \"eval_aspect\": dt[\"eval_aspect\"], \"prediction\": prediction})"
      ],
      "metadata": {
        "id": "TLOE00cpW-YD"
      },
      "execution_count": null,
      "outputs": []
    },
    {
      "cell_type": "code",
      "source": [
        "results[0]"
      ],
      "metadata": {
        "id": "o_d7IYXuX1bQ"
      },
      "execution_count": null,
      "outputs": []
    },
    {
      "cell_type": "markdown",
      "source": [
        "## リストを様々な形式に変換して保存"
      ],
      "metadata": {
        "id": "iZM3fwofYYVo"
      }
    },
    {
      "cell_type": "code",
      "source": [
        "df = pd.DataFrame(results)\n",
        "\n",
        "# CSVファイルとして保存\n",
        "csv_file_path = f\"test.csv\"\n",
        "df.to_csv(csv_file_path, index=False, encoding='utf-8')\n",
        "\n",
        "# エクセルファイルとして保存\n",
        "excel_file_path = f\"test.xlsx\"\n",
        "df.to_excel(excel_file_path, index=False)\n",
        "\n",
        "# jsonlファイルとして保存\n",
        "json_file_path = f\"test.jsonl\"\n",
        "df.to_json(json_file_path, orient=\"records\", lines=True, force_ascii=False)\n",
        "\n",
        "#with open(f\"test.jsonl\", 'w', encoding='utf-8') as f:\n",
        "#    for result in results:\n",
        "#        json.dump(result, f, ensure_ascii=False)\n",
        "#        f.write('\\n')"
      ],
      "metadata": {
        "id": "xGcVT0UAZCfu"
      },
      "execution_count": null,
      "outputs": []
    },
    {
      "cell_type": "markdown",
      "source": [
        "## 様々なデータ形式をdatasetsとして読み込む"
      ],
      "metadata": {
        "id": "9Ygew01SbCqT"
      }
    },
    {
      "cell_type": "code",
      "source": [
        "df = pd.read_csv(f\"test.csv\")\n",
        "\n",
        "datasets = Dataset.from_pandas(df)"
      ],
      "metadata": {
        "id": "OAhLjbqVX2gc"
      },
      "execution_count": null,
      "outputs": []
    },
    {
      "cell_type": "code",
      "source": [
        "datasets"
      ],
      "metadata": {
        "id": "jrAL7Tf2bjKk"
      },
      "execution_count": null,
      "outputs": []
    },
    {
      "cell_type": "code",
      "source": [
        "datasets['input'][0]"
      ],
      "metadata": {
        "id": "H7E32NaIbey4"
      },
      "execution_count": null,
      "outputs": []
    },
    {
      "cell_type": "code",
      "source": [
        "df = pd.read_excel(f\"test.xlsx\")\n",
        "\n",
        "datasets = Dataset.from_pandas(df)"
      ],
      "metadata": {
        "id": "m81bPGr-blsz"
      },
      "execution_count": null,
      "outputs": []
    },
    {
      "cell_type": "code",
      "source": [
        "datasets"
      ],
      "metadata": {
        "id": "QKh3t7gGbtXl"
      },
      "execution_count": null,
      "outputs": []
    },
    {
      "cell_type": "code",
      "source": [
        "datasets['input'][0]"
      ],
      "metadata": {
        "id": "2QKHYmoZbvKW"
      },
      "execution_count": null,
      "outputs": []
    },
    {
      "cell_type": "code",
      "source": [
        "datasets = Dataset.from_json(\"test.jsonl\")"
      ],
      "metadata": {
        "id": "97HHgNYjbwq5"
      },
      "execution_count": null,
      "outputs": []
    },
    {
      "cell_type": "code",
      "source": [
        "datasets"
      ],
      "metadata": {
        "id": "cN_DK42Jb5QX"
      },
      "execution_count": null,
      "outputs": []
    },
    {
      "cell_type": "code",
      "source": [
        "datasets['input'][0]"
      ],
      "metadata": {
        "id": "4B7bktseb8pC"
      },
      "execution_count": null,
      "outputs": []
    }
  ]
}