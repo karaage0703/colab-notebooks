{
  "cells": [
    {
      "cell_type": "markdown",
      "metadata": {
        "id": "view-in-github",
        "colab_type": "text"
      },
      "source": [
        "<a href=\"https://colab.research.google.com/github/karaage0703/colab-notebooks/blob/main/rembg.ipynb\" target=\"_parent\"><img src=\"https://colab.research.google.com/assets/colab-badge.svg\" alt=\"Open In Colab\"/></a>"
      ]
    },
    {
      "cell_type": "markdown",
      "metadata": {
        "id": "w-0mHhP4tpTT"
      },
      "source": [
        "# Remove Background\n",
        "Remove Background notebook by using rembg"
      ]
    },
    {
      "cell_type": "markdown",
      "source": [
        "## Setup"
      ],
      "metadata": {
        "id": "kIYmJWDaw6_4"
      }
    },
    {
      "cell_type": "code",
      "source": [
        "!pip install -qq rembg\n",
        "!pip install -qq pillow==9.2.0"
      ],
      "metadata": {
        "id": "oVEZWxiNw9Id"
      },
      "execution_count": null,
      "outputs": []
    },
    {
      "cell_type": "markdown",
      "source": [
        "## Remove Background"
      ],
      "metadata": {
        "id": "GpodpdO6S2wZ"
      }
    },
    {
      "cell_type": "markdown",
      "source": [
        "Reset files"
      ],
      "metadata": {
        "id": "EoLe2Ou6x0tY"
      }
    },
    {
      "cell_type": "code",
      "source": [
        "!rm -rf /content/input\n",
        "!rm -rf /content/output\n",
        "!mkdir /content/input\n",
        "!mkdir /content/output"
      ],
      "metadata": {
        "id": "XPvyU142xWc-"
      },
      "execution_count": null,
      "outputs": []
    },
    {
      "cell_type": "markdown",
      "source": [
        "Upload files"
      ],
      "metadata": {
        "id": "EgxqJAuAxbYK"
      }
    },
    {
      "cell_type": "code",
      "source": [
        "%cd /content/input\n",
        "from google.colab import files\n",
        "uploaded = files.upload()"
      ],
      "metadata": {
        "id": "JZe2tPOYTKtH"
      },
      "execution_count": null,
      "outputs": []
    },
    {
      "cell_type": "markdown",
      "source": [
        "Remove background processing"
      ],
      "metadata": {
        "id": "s6rhyjZHxezQ"
      }
    },
    {
      "cell_type": "code",
      "source": [
        "%cd /content\n",
        "!rembg p input output"
      ],
      "metadata": {
        "id": "zaTWx1lpTu_y"
      },
      "execution_count": null,
      "outputs": []
    },
    {
      "cell_type": "markdown",
      "source": [
        "Download removed background images"
      ],
      "metadata": {
        "id": "KDAIEwlxxii9"
      }
    },
    {
      "cell_type": "code",
      "source": [
        "!zip -r /content/download.zip /content/output"
      ],
      "metadata": {
        "id": "7RDZzEiqUE0r"
      },
      "execution_count": null,
      "outputs": []
    },
    {
      "cell_type": "code",
      "source": [
        "from google.colab import files\n",
        "files.download('/content/download.zip')"
      ],
      "metadata": {
        "id": "5HMTwOeBT_dC"
      },
      "execution_count": null,
      "outputs": []
    },
    {
      "cell_type": "markdown",
      "source": [
        "## Reference\n"
      ],
      "metadata": {
        "id": "8_ieawWDdpjt"
      }
    },
    {
      "cell_type": "markdown",
      "source": [
        "- https://stackoverflow.com/questions/71738218/module-pil-has-not-attribute-resampling\n",
        "- https://qiita.com/PoodleMaster/items/12003900d6b362f4fe58"
      ],
      "metadata": {
        "id": "feiv0DFnySVz"
      }
    }
  ],
  "metadata": {
    "accelerator": "GPU",
    "colab": {
      "machine_shape": "hm",
      "provenance": [],
      "include_colab_link": true
    },
    "gpuClass": "standard",
    "kernelspec": {
      "display_name": "Python 3",
      "name": "python3"
    },
    "language_info": {
      "name": "python"
    }
  },
  "nbformat": 4,
  "nbformat_minor": 0
}