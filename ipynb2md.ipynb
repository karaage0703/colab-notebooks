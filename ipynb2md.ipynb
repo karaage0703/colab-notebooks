{
  "nbformat": 4,
  "nbformat_minor": 0,
  "metadata": {
    "colab": {
      "provenance": [],
      "authorship_tag": "ABX9TyMBzo1+K5Wg72ud/3W1HvzU",
      "include_colab_link": true
    },
    "kernelspec": {
      "name": "python3",
      "display_name": "Python 3"
    },
    "language_info": {
      "name": "python"
    }
  },
  "cells": [
    {
      "cell_type": "markdown",
      "metadata": {
        "id": "view-in-github",
        "colab_type": "text"
      },
      "source": [
        "<a href=\"https://colab.research.google.com/github/karaage0703/colab-notebooks/blob/main/ipynb2md.ipynb\" target=\"_parent\"><img src=\"https://colab.research.google.com/assets/colab-badge.svg\" alt=\"Open In Colab\"/></a>"
      ]
    },
    {
      "cell_type": "markdown",
      "source": [
        "# ipynb2md\n",
        "\n",
        "Convert from jupyter notebook(`.ipynb`) to markdown(`.md`)"
      ],
      "metadata": {
        "id": "CyUnSm3d8bn0"
      }
    },
    {
      "cell_type": "code",
      "source": [
        "import subprocess\n",
        "import os\n",
        "from google.colab import files"
      ],
      "metadata": {
        "id": "tVCRmPFm3SC7"
      },
      "execution_count": null,
      "outputs": []
    },
    {
      "cell_type": "code",
      "source": [
        "uploaded = files.upload()\n",
        "\n",
        "for fn in uploaded.keys():\n",
        "    print('User uploaded file \"{name}\" with length {length} bytes'.format(\n",
        "        name=fn, length=len(uploaded[fn])))\n",
        "    command = 'jupyter nbconvert --to markdown ' + fn\n",
        "    ret = subprocess.run(command, shell=True)\n",
        "    print(ret)\n",
        "\n",
        "    fn_md = os.path.splitext(fn)[0] + '.md'\n",
        "    files.download(fn_md)"
      ],
      "metadata": {
        "id": "bfYXcPEg4_VK"
      },
      "execution_count": null,
      "outputs": []
    },
    {
      "cell_type": "code",
      "source": [
        "#!pip install -qqq nbconvert"
      ],
      "metadata": {
        "id": "HXyk2p6M3STr"
      },
      "execution_count": null,
      "outputs": []
    },
    {
      "cell_type": "markdown",
      "source": [
        "## Reference"
      ],
      "metadata": {
        "id": "RN5WQMTE8rM6"
      }
    },
    {
      "cell_type": "markdown",
      "source": [
        "- https://qiita.com/maskot1977/items/1fa7164d8e85b6b63ccf\n",
        "- https://github.com/jupyter/nbconvert"
      ],
      "metadata": {
        "id": "4UO8fhWi8uaf"
      }
    }
  ]
}