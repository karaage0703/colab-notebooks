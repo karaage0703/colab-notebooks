{
  "nbformat": 4,
  "nbformat_minor": 0,
  "metadata": {
    "colab": {
      "provenance": [],
      "authorship_tag": "ABX9TyN9daeuZAXugdBXThXP3ujC",
      "include_colab_link": true
    },
    "kernelspec": {
      "name": "python3",
      "display_name": "Python 3"
    }
  },
  "cells": [
    {
      "cell_type": "markdown",
      "metadata": {
        "id": "view-in-github",
        "colab_type": "text"
      },
      "source": [
        "<a href=\"https://colab.research.google.com/github/karaage0703/colab-notebooks/blob/main/kindle_analytics.ipynb\" target=\"_parent\"><img src=\"https://colab.research.google.com/assets/colab-badge.svg\" alt=\"Open In Colab\"/></a>"
      ]
    },
    {
      "cell_type": "markdown",
      "metadata": {
        "id": "Jf21bwSLbDWL"
      },
      "source": [
        "# Kindleの蔵書分析\n",
        "\n",
        "[Kindleの蔵書情報をKindleアプリのXMLをパースして可視化する方法](https://zenn.dev/karaage0703/articles/3a163290a4bc26)参照"
      ]
    },
    {
      "cell_type": "markdown",
      "metadata": {
        "id": "Wg80QjG7MGJh"
      },
      "source": [
        "## データのダウンロードと確認"
      ]
    },
    {
      "cell_type": "markdown",
      "source": [
        "`KindleSyncMetadataCache.xml`をアップロードします。"
      ],
      "metadata": {
        "id": "fgO2H2TKIGj_"
      }
    },
    {
      "cell_type": "code",
      "metadata": {
        "id": "uUiv7LEba928"
      },
      "source": [
        "from google.colab import files\n",
        "uploaded = files.upload()"
      ],
      "execution_count": null,
      "outputs": []
    },
    {
      "cell_type": "markdown",
      "metadata": {
        "id": "x78B7c13bQTx"
      },
      "source": [
        "必要なライブラリをインポート"
      ]
    },
    {
      "cell_type": "code",
      "metadata": {
        "id": "GIYNdCtebSht"
      },
      "source": [
        "import pandas as pd\n",
        "import xml.etree.ElementTree as ET\n",
        "import csv"
      ],
      "execution_count": null,
      "outputs": []
    },
    {
      "cell_type": "markdown",
      "source": [
        "[Kindle for PCのキャッシュファイルから持っているKindle本の一覧を作成する](https://note.com/nanigashi/n/n8a1e590d2ea3)と[高橋さんかずひとさんのブログ記事](https://kazuhito00.hatenablog.com/entry/2022/12/31/153847)を参考にcsvに変換"
      ],
      "metadata": {
        "id": "YCzooNWGIw9i"
      }
    },
    {
      "cell_type": "code",
      "source": [
        "#kindle App cashe file => kindle book list csv\n",
        "import xml.etree.ElementTree as ET\n",
        "import csv\n",
        "\n",
        "input_file_str = \"./KindleSyncMetadataCache.xml\"\n",
        "output_file_str = \"./Kindle.csv\"\n",
        "header = [\"ASIN\", \"title\", \"authors\", \"publisher\",\n",
        "           \"publication_date\", \"purchase_date\",\n",
        "           \"textbook_type\", \"cde_contenttype\",\n",
        "           \"content_type\", \"origins\"]\n",
        "nary = [header]\n",
        "tree = ET.parse(input_file_str)\n",
        "root = tree.getroot()\n",
        "\n",
        "for book_info in root[2]:\n",
        "   ary = []\n",
        "   for info in book_info:\n",
        "       #authers publishers are nested\n",
        "       if len(info) == 0:\n",
        "           if info.text is not None:\n",
        "               ary.append(info.text)\n",
        "           else:\n",
        "               ary.append('')\n",
        "       else:\n",
        "           info_list = [ s.text for s in info ]\n",
        "           for index, value in enumerate(info_list):\n",
        "               if value is None:\n",
        "                   info_list[index] = ''\n",
        "           ary.append(';'.join(info_list))\n",
        "   nary.append(ary)\n",
        "\n",
        "with open(output_file_str, 'w') as f:\n",
        "   writer = csv.writer(f)\n",
        "   writer.writerows(nary)"
      ],
      "metadata": {
        "id": "sXgIhkYqW3SO"
      },
      "execution_count": null,
      "outputs": []
    },
    {
      "cell_type": "markdown",
      "metadata": {
        "id": "tfeN28SDbf-0"
      },
      "source": [
        "`Kindle.csv`をPandasで読み込み、一部を表示"
      ]
    },
    {
      "cell_type": "code",
      "metadata": {
        "id": "dY54QGrnbJS9"
      },
      "source": [
        "df = pd.read_csv('Kindle.csv', sep=',')\n",
        "df.head()"
      ],
      "execution_count": null,
      "outputs": []
    },
    {
      "cell_type": "markdown",
      "metadata": {
        "id": "OMa2fXLWMRF4"
      },
      "source": [
        "## データの前処理"
      ]
    },
    {
      "cell_type": "markdown",
      "metadata": {
        "id": "mNxWGt7DceY7"
      },
      "source": [
        "購入日をインデックスとしてdatetime形式に変換"
      ]
    },
    {
      "cell_type": "code",
      "metadata": {
        "id": "JLziQJEcdOZJ"
      },
      "source": [
        "df.set_index('purchase_date', inplace=True)\n",
        "df.index = pd.to_datetime(df.index, format='%Y/%m/%d')\n",
        "\n",
        "df.head()"
      ],
      "execution_count": null,
      "outputs": []
    },
    {
      "cell_type": "markdown",
      "metadata": {
        "id": "-Rnt1TjpGj8d"
      },
      "source": [
        "年・月・日の列を作る"
      ]
    },
    {
      "cell_type": "code",
      "metadata": {
        "id": "uzyN10dgGHW5"
      },
      "source": [
        "df['year'] = list(pd.Series(df.index).apply(lambda x: x.year))\n",
        "df['month'] = list(pd.Series(df.index).apply(lambda x: x.month))\n",
        "df['day'] = list(pd.Series(df.index).apply(lambda x: x.day))\n",
        "df['day_name'] = list(pd.Series(df.index).apply(lambda x: x.day_name()))\n",
        "df['weekday'] = list(pd.Series(df.index).apply(lambda x: x.weekday()))\n",
        "\n",
        "df.head()"
      ],
      "execution_count": null,
      "outputs": []
    },
    {
      "cell_type": "markdown",
      "metadata": {
        "id": "GKJiTshlV_ou"
      },
      "source": [
        "年・月・日・曜日毎のデータを作成。代表で年毎のデータを表示"
      ]
    },
    {
      "cell_type": "code",
      "metadata": {
        "id": "fBkB5IemMljK"
      },
      "source": [
        "year_data = df.groupby(['year']).size()\n",
        "month_data = df.groupby(['month']).size()\n",
        "day_data =  df.groupby(['day']).size()\n",
        "day_name_data =  df.groupby(['day_name']).size()\n",
        "weekday_data = df.groupby(['weekday']).size()\n",
        "\n",
        "target_year = 2022\n",
        "month_data2 = df[df['year']==target_year].groupby(['month']).size()\n",
        "day_data2 =  df[df['year']==target_year].groupby(['day']).size()\n",
        "day_name_data2 =  df[df['year']==target_year].groupby(['day_name']).size()\n",
        "weekday_data2 = df[df['year']==target_year].groupby(['weekday']).size()\n",
        "\n",
        "year_data.head(15)"
      ],
      "execution_count": null,
      "outputs": []
    },
    {
      "cell_type": "markdown",
      "metadata": {
        "id": "T2daOLlsVnQa"
      },
      "source": [
        "タイトルのカッコの中にある出版社情報や巻数情報を削除"
      ]
    },
    {
      "cell_type": "code",
      "metadata": {
        "id": "-kHmXqHKPY01"
      },
      "source": [
        "df['title_renamed'] = df['title'].str.replace(r'\\s*\\([^()]*\\)','').str.replace(r'\\s*\\（[^()]*\\）','').str.strip()\n",
        "\n",
        "df.head()"
      ],
      "execution_count": null,
      "outputs": []
    },
    {
      "cell_type": "markdown",
      "metadata": {
        "id": "3jijGT1CHBGU"
      },
      "source": [
        "タイトルの文字数の列を作る"
      ]
    },
    {
      "cell_type": "code",
      "metadata": {
        "id": "nlO2AJSiOYOY"
      },
      "source": [
        "df['title_length'] = list(pd.Series(df['title_renamed']).apply(lambda x: len(x)))\n",
        "\n",
        "df.head()"
      ],
      "execution_count": null,
      "outputs": []
    },
    {
      "cell_type": "markdown",
      "metadata": {
        "id": "kuRsAOpPMURO"
      },
      "source": [
        "## データの可視化"
      ]
    },
    {
      "cell_type": "markdown",
      "metadata": {
        "id": "GtunMkGWSmhp"
      },
      "source": [
        "蔵書数の確認"
      ]
    },
    {
      "cell_type": "code",
      "metadata": {
        "id": "ng17N4SuSesJ"
      },
      "source": [
        "df.shape[0]"
      ],
      "execution_count": null,
      "outputs": []
    },
    {
      "cell_type": "markdown",
      "metadata": {
        "id": "FA_-HtWWWgBm"
      },
      "source": [
        "年毎のデータの確認"
      ]
    },
    {
      "cell_type": "code",
      "metadata": {
        "id": "0VksnVkqJMLP"
      },
      "source": [
        "year_data.plot.bar()"
      ],
      "execution_count": null,
      "outputs": []
    },
    {
      "cell_type": "markdown",
      "metadata": {
        "id": "OO8wKdUzWnGq"
      },
      "source": [
        "月毎のデータの確認"
      ]
    },
    {
      "cell_type": "code",
      "metadata": {
        "id": "ZtnilqtxWkyu"
      },
      "source": [
        "month_data.plot.bar()"
      ],
      "execution_count": null,
      "outputs": []
    },
    {
      "cell_type": "markdown",
      "metadata": {
        "id": "3EkaeqbmWh0C"
      },
      "source": [
        "日毎のデータの確認"
      ]
    },
    {
      "cell_type": "code",
      "metadata": {
        "id": "uDT9MrGkVQss"
      },
      "source": [
        "day_data.plot.bar()"
      ],
      "execution_count": null,
      "outputs": []
    },
    {
      "cell_type": "markdown",
      "metadata": {
        "id": "tCJG0WpUWtNX"
      },
      "source": [
        "曜日毎のデータの確認（0が月曜日、6が土曜日）"
      ]
    },
    {
      "cell_type": "code",
      "metadata": {
        "id": "M597DJUAKC5G"
      },
      "source": [
        "weekday_data.plot.bar()"
      ],
      "execution_count": null,
      "outputs": []
    },
    {
      "cell_type": "markdown",
      "metadata": {
        "id": "eTPCpEfdWuyh"
      },
      "source": [
        "曜日毎のデータの確認（0が月曜日、6が日曜日）(全年)"
      ]
    },
    {
      "cell_type": "code",
      "metadata": {
        "id": "AmTEIt2xVCsA"
      },
      "source": [
        "day_name_data.plot.bar()"
      ],
      "execution_count": null,
      "outputs": []
    },
    {
      "cell_type": "markdown",
      "source": [
        "曜日毎のデータの確認（0が月曜日、6が日曜日）(今年)"
      ],
      "metadata": {
        "id": "g1ac2CAEY9oo"
      }
    },
    {
      "cell_type": "code",
      "source": [
        "weekday_data2.plot.bar()"
      ],
      "metadata": {
        "id": "VqUjFuzhY7oN"
      },
      "execution_count": null,
      "outputs": []
    },
    {
      "cell_type": "markdown",
      "source": [
        "曜日毎のデータの確認（曜日名で並べる）(全年)"
      ],
      "metadata": {
        "id": "HjZv3kA7ZEg5"
      }
    },
    {
      "cell_type": "code",
      "source": [
        "day_name_data.plot.bar()"
      ],
      "metadata": {
        "id": "6swbtF4cZEBO"
      },
      "execution_count": null,
      "outputs": []
    },
    {
      "cell_type": "markdown",
      "source": [
        "曜日毎のデータの確認（曜日名で並べる）(今年)"
      ],
      "metadata": {
        "id": "sTTE3a7SZIlc"
      }
    },
    {
      "cell_type": "code",
      "source": [
        "day_name_data2.plot.bar()"
      ],
      "metadata": {
        "id": "Cpy0a0F7ZLKE"
      },
      "execution_count": null,
      "outputs": []
    },
    {
      "cell_type": "markdown",
      "metadata": {
        "id": "OKkodWXzW2Mn"
      },
      "source": [
        "タイトルの文字数のヒストグラム"
      ]
    },
    {
      "cell_type": "code",
      "metadata": {
        "id": "XCK_bb8ZKGcZ"
      },
      "source": [
        "df['title_length'].plot(kind='hist', bins=50, figsize=(16,4), alpha=0.5)"
      ],
      "execution_count": null,
      "outputs": []
    },
    {
      "cell_type": "markdown",
      "metadata": {
        "id": "4bryLWSFW4O9"
      },
      "source": [
        "タイトル文字の分析"
      ]
    },
    {
      "cell_type": "code",
      "metadata": {
        "id": "NFZYKXh0KpbV"
      },
      "source": [
        "df['title_length'].describe()"
      ],
      "execution_count": null,
      "outputs": []
    },
    {
      "cell_type": "code",
      "source": [
        "title_max_len = df['title_length'].describe()['max']\n",
        "title_min_len = df['title_length'].describe()['min']\n",
        "title_mean_len = df['title_length'].describe()['50%']"
      ],
      "metadata": {
        "id": "CUG_VBEPavqr"
      },
      "execution_count": null,
      "outputs": []
    },
    {
      "cell_type": "markdown",
      "metadata": {
        "id": "nQ5_pCqdW5v1"
      },
      "source": [
        "行の最大文字数を設定（省略されるのを防止）"
      ]
    },
    {
      "cell_type": "code",
      "metadata": {
        "id": "ajawyShVLsx4"
      },
      "source": [
        "pd.set_option(\"display.max_colwidth\", 200)"
      ],
      "execution_count": null,
      "outputs": []
    },
    {
      "cell_type": "markdown",
      "metadata": {
        "id": "GvdXYXB4XD-M"
      },
      "source": [
        "タイトル文字数でタイトルを並び替え"
      ]
    },
    {
      "cell_type": "code",
      "metadata": {
        "id": "aBtZDQqtROJv"
      },
      "source": [
        "df.sort_values('title_length')['title_renamed']"
      ],
      "execution_count": null,
      "outputs": []
    },
    {
      "cell_type": "markdown",
      "metadata": {
        "id": "AEM28tS6XO2V"
      },
      "source": [
        "3文字のタイトルを抽出"
      ]
    },
    {
      "cell_type": "code",
      "metadata": {
        "id": "0_jSQYm6Ly1l"
      },
      "source": [
        "df['title_renamed'][df['title_length'] == 3]"
      ],
      "execution_count": null,
      "outputs": []
    },
    {
      "cell_type": "markdown",
      "metadata": {
        "id": "HY3gFdi8XVWI"
      },
      "source": [
        "平均付近のタイトルを抽出"
      ]
    },
    {
      "cell_type": "code",
      "metadata": {
        "id": "Rc-jqMSvNO7y"
      },
      "source": [
        "df['title_renamed'][df['title_length'] == title_min_len]"
      ],
      "execution_count": null,
      "outputs": []
    },
    {
      "cell_type": "code",
      "source": [
        "df['title_renamed'][df['title_length'] == title_max_len]"
      ],
      "metadata": {
        "id": "HNMqAtjmZpTS"
      },
      "execution_count": null,
      "outputs": []
    },
    {
      "cell_type": "code",
      "source": [
        "df['title_renamed'][(df['title_length'] == title_mean_len)]"
      ],
      "metadata": {
        "id": "6hw9ikqRZqfm"
      },
      "execution_count": null,
      "outputs": []
    },
    {
      "cell_type": "markdown",
      "metadata": {
        "id": "8am8nYp1lwVb"
      },
      "source": [
        "筆者の分析"
      ]
    },
    {
      "cell_type": "code",
      "metadata": {
        "id": "aP_BctIDlsGj"
      },
      "source": [
        "df['authors'].value_counts()"
      ],
      "execution_count": null,
      "outputs": []
    },
    {
      "cell_type": "markdown",
      "metadata": {
        "id": "YA86MMX3Fa4E"
      },
      "source": [
        "# 参考リンク"
      ]
    },
    {
      "cell_type": "markdown",
      "metadata": {
        "id": "9CKxqpk0Fccm"
      },
      "source": [
        "- https://qiita.com/ysdyt/items/9ccca82fc5b504e7913a\n",
        "- https://qiita.com/canonno/items/57f917147b3d6ae106e9\n",
        "- https://note.nkmk.me/python-pandas-multiple-conditions/\n",
        "- https://note.com/nanigashi/n/n8a1e590d2ea3"
      ]
    }
  ]
}