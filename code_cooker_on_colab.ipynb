{
  "nbformat": 4,
  "nbformat_minor": 0,
  "metadata": {
    "colab": {
      "provenance": [],
      "authorship_tag": "ABX9TyO5DRFTPln4XW2q3DtNCm46",
      "include_colab_link": true
    },
    "kernelspec": {
      "name": "python3",
      "display_name": "Python 3"
    },
    "language_info": {
      "name": "python"
    }
  },
  "cells": [
    {
      "cell_type": "markdown",
      "metadata": {
        "id": "view-in-github",
        "colab_type": "text"
      },
      "source": [
        "<a href=\"https://colab.research.google.com/github/karaage0703/colab-notebooks/blob/main/code_cooker_on_colab.ipynb\" target=\"_parent\"><img src=\"https://colab.research.google.com/assets/colab-badge.svg\" alt=\"Open In Colab\"/></a>"
      ]
    },
    {
      "cell_type": "markdown",
      "source": [
        "# Code Cooker\n",
        "Simple data analysis notebook on google colab like Advanced Data Analysis(Code Interpreter).\n",
        "\n",
        "Reference: [claude_manim.ipynb](https://colab.research.google.com/github/wmoto-ai/claude-manim-notebook/blob/main/claude_manim.ipynb#scrollTo=mF8X8Q3LyZc9)"
      ],
      "metadata": {
        "id": "4GpLLxVccgsl"
      }
    },
    {
      "cell_type": "markdown",
      "source": [
        "Install packages"
      ],
      "metadata": {
        "id": "KJUYop_25reV"
      }
    },
    {
      "cell_type": "code",
      "execution_count": null,
      "metadata": {
        "id": "NTMtDp_9cdGE"
      },
      "outputs": [],
      "source": [
        "!pip -qqq install anthropic"
      ]
    },
    {
      "cell_type": "markdown",
      "source": [
        "Import libraries and setup api"
      ],
      "metadata": {
        "id": "8VsxW-6H8D2M"
      }
    },
    {
      "cell_type": "code",
      "source": [
        "import os\n",
        "from google.colab import userdata\n",
        "import anthropic\n",
        "import random\n",
        "import time\n",
        "from IPython.core.magic import register_cell_magic\n",
        "\n",
        "os.environ[\"ANTHROPIC_API_KEY\"] = userdata.get(\"ANTHROPIC_API_KEY\")\n",
        "\n",
        "client = anthropic.Anthropic(api_key=os.getenv('ANTHROPIC_API_KEY'))"
      ],
      "metadata": {
        "id": "aVczXElEdaVa"
      },
      "execution_count": null,
      "outputs": []
    },
    {
      "cell_type": "markdown",
      "source": [
        "Define function"
      ],
      "metadata": {
        "id": "pFfvnNupCKoJ"
      }
    },
    {
      "cell_type": "code",
      "source": [
        "@register_cell_magic\n",
        "def _(line, cell):\n",
        "    system_prompt = f\"\"\"あなたはJupyterNotebookを使うPythonデータサイエンティストです。\n",
        "    入力された指示をもとに、データ分析を実施してください。\n",
        "    限界を超えてがんばってください。うまくいったらチップあげます。\n",
        "    \"\"\"\n",
        "\n",
        "    user_prompt = cell\n",
        "    filename = line\n",
        "\n",
        "    if filename != \"\":\n",
        "        system_prompt += f\"\"\"\n",
        "        # 入力データ:ファイルパス\n",
        "        {filename}\n",
        "        なお、データはUTF-8で読み込んでください。\n",
        "        \"\"\"\n",
        "\n",
        "    messages = [\n",
        "        {\"role\": \"user\", \"content\": user_prompt}\n",
        "    ]\n",
        "\n",
        "    prompt_w_history.extend(messages)\n",
        "\n",
        "    retry_count = 0\n",
        "    while retry_count < 3:\n",
        "        try:\n",
        "            response = client.messages.create(\n",
        "                max_tokens=2048,\n",
        "                messages=prompt_w_history,\n",
        "                model=\"claude-3-opus-20240229\",\n",
        "                system=system_prompt\n",
        "            )\n",
        "        except Exception as e:\n",
        "            print(e)\n",
        "            time.sleep(3)\n",
        "            continue\n",
        "\n",
        "        assistant_response = response.content[0].text\n",
        "\n",
        "        print(\"APIからの応答:\", assistant_response)\n",
        "\n",
        "        python = \"\"\n",
        "        if \"```python\" in assistant_response and \"```\" in assistant_response:\n",
        "            python = assistant_response.split(\"```python\")[1].split(\"```\")[0]\n",
        "\n",
        "        print(\"抽出されたPythonコード:\", python)\n",
        "\n",
        "        try:\n",
        "            exec(python)\n",
        "            prompt_w_history.append({\"role\": \"assistant\", \"content\": str(assistant_response)})\n",
        "            break\n",
        "        except Exception as e:\n",
        "            print(f\"エラーが発生しました: {e}\")\n",
        "            prompt_w_history.append({\"role\": \"assistant\", \"content\": str(assistant_response)})\n",
        "            prompt_w_history.append({\"role\": \"user\", \"content\": f\"エラーが発生しました。エラーメッセージ: {e}\\nコードを修正して再度実行してください。\"})\n",
        "            retry_count += 1\n",
        "\n",
        "    print(\"コードの実行が完了しました。\" if retry_count < 3 else \"コードの修正に失敗しました。再実行回数が上限に達しました。\")"
      ],
      "metadata": {
        "id": "wcgU0Dfe_F7l"
      },
      "execution_count": null,
      "outputs": []
    },
    {
      "cell_type": "markdown",
      "source": [
        "Initialize prompt"
      ],
      "metadata": {
        "id": "Xsq41P6Z_wqY"
      }
    },
    {
      "cell_type": "code",
      "source": [
        "prompt_w_history = []"
      ],
      "metadata": {
        "id": "VEdJlSE2_vHe"
      },
      "execution_count": null,
      "outputs": []
    },
    {
      "cell_type": "markdown",
      "source": [
        "Execute"
      ],
      "metadata": {
        "id": "YLVHtv31CUBv"
      }
    },
    {
      "cell_type": "code",
      "source": [
        "%%_\n",
        "kaggleのtitanicを分析してください"
      ],
      "metadata": {
        "id": "nTHvqL3beNku"
      },
      "execution_count": null,
      "outputs": []
    },
    {
      "cell_type": "code",
      "source": [
        "%%_ train.csv\n",
        "kaggleのtitanicを分析してください。対象のデータはtrain.csvです。"
      ],
      "metadata": {
        "id": "pA2PisCrDWoi"
      },
      "execution_count": null,
      "outputs": []
    },
    {
      "cell_type": "code",
      "source": [
        "%%_\n",
        "可視化してください。"
      ],
      "metadata": {
        "id": "NDwvWQZEE48o"
      },
      "execution_count": null,
      "outputs": []
    },
    {
      "cell_type": "code",
      "source": [],
      "metadata": {
        "id": "QgP5cUAjF1Pq"
      },
      "execution_count": null,
      "outputs": []
    }
  ]
}