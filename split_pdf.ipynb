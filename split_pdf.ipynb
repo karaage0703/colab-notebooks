{
  "nbformat": 4,
  "nbformat_minor": 0,
  "metadata": {
    "colab": {
      "provenance": [],
      "authorship_tag": "ABX9TyPYE1eVlpBaZqTeS20oXF45",
      "include_colab_link": true
    },
    "kernelspec": {
      "name": "python3",
      "display_name": "Python 3"
    },
    "language_info": {
      "name": "python"
    }
  },
  "cells": [
    {
      "cell_type": "markdown",
      "metadata": {
        "id": "view-in-github",
        "colab_type": "text"
      },
      "source": [
        "<a href=\"https://colab.research.google.com/github/karaage0703/colab-notebooks/blob/main/split_pdf.ipynb\" target=\"_parent\"><img src=\"https://colab.research.google.com/assets/colab-badge.svg\" alt=\"Open In Colab\"/></a>"
      ]
    },
    {
      "cell_type": "markdown",
      "source": [
        "# Split PDF file\n",
        "\n",
        "Chat GPTが作ったプログラムをベースに作成した、PDFファイルの各ページを1ページずつ保存するGoogle Colab Notebookです。"
      ],
      "metadata": {
        "id": "snIUVVH9VsUo"
      }
    },
    {
      "cell_type": "code",
      "source": [
        "#@title **PDFファイルのアップロード**\n",
        "#@markdown　PDFファイルを選択してください\n",
        "!pip install -qq PyPDF2\n",
        "import os\n",
        "import glob\n",
        "from PyPDF2 import PdfReader, PdfWriter\n",
        "\n",
        "from google.colab import files\n",
        "uploaded = files.upload()"
      ],
      "metadata": {
        "cellView": "form",
        "id": "uKRPEf-At3Bx"
      },
      "execution_count": null,
      "outputs": []
    },
    {
      "cell_type": "code",
      "source": [
        "#@title **PDFファイルを1ページずつ別ファイルに保存処理**\n",
        "output_folder_path = \"output\"\n",
        "\n",
        "if not os.path.exists(output_folder_path):\n",
        "    os.makedirs(output_folder_path)\n",
        "\n",
        "pdf_dir = './'\n",
        "pdf_files = glob.glob(os.path.join(pdf_dir, '*.pdf'))\n",
        "\n",
        "for pdf_file in pdf_files:\n",
        "    input_pdf = PdfReader(open(pdf_file, \"rb\"))\n",
        "    num_pages = len(input_pdf.pages)\n",
        "\n",
        "    for page_num in range(num_pages):\n",
        "        output_file_name = os.path.splitext(os.path.basename(pdf_file))[0] + '_{}.pdf'.format(page_num + 1)\n",
        "        output_file_path = os.path.join(output_folder_path, output_file_name)\n",
        "\n",
        "        output_pdf = PdfWriter()\n",
        "        output_pdf.add_page(input_pdf.pages[page_num])\n",
        "\n",
        "        with open(output_file_path, \"wb\") as output_file:\n",
        "            output_pdf.write(output_file)\n",
        "\n",
        "!zip -r output.zip output"
      ],
      "metadata": {
        "cellView": "form",
        "id": "6R5qHMxSuM1h"
      },
      "execution_count": null,
      "outputs": []
    },
    {
      "cell_type": "code",
      "source": [
        "#@title **別ファイルで保存されたPDFファイルをダウンロード**\n",
        "\n",
        "from google.colab import files\n",
        "files.download('output.zip')"
      ],
      "metadata": {
        "cellView": "form",
        "id": "vbo8UDO-0kAk"
      },
      "execution_count": null,
      "outputs": []
    }
  ]
}