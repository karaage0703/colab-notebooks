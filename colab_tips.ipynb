{
  "nbformat": 4,
  "nbformat_minor": 0,
  "metadata": {
    "colab": {
      "provenance": [],
      "include_colab_link": true
    },
    "kernelspec": {
      "name": "python3",
      "display_name": "Python 3"
    },
    "accelerator": "GPU"
  },
  "cells": [
    {
      "cell_type": "markdown",
      "metadata": {
        "id": "view-in-github",
        "colab_type": "text"
      },
      "source": [
        "<a href=\"https://colab.research.google.com/github/karaage0703/colab-notebooks/blob/main/colab_tips.ipynb\" target=\"_parent\"><img src=\"https://colab.research.google.com/assets/colab-badge.svg\" alt=\"Open In Colab\"/></a>"
      ]
    },
    {
      "cell_type": "markdown",
      "metadata": {
        "id": "EheK_V1It0Z9"
      },
      "source": [
        "# Google Colaboratory Tips\n",
        "\n",
        "Google Colaboratory(Google Colab)のTips集\n"
      ]
    },
    {
      "cell_type": "markdown",
      "metadata": {
        "id": "S85QcASPt4X4"
      },
      "source": [
        "## スペック確認"
      ]
    },
    {
      "cell_type": "markdown",
      "metadata": {
        "id": "VKxj0kBtIizr"
      },
      "source": [
        "OSバージョン"
      ]
    },
    {
      "cell_type": "code",
      "metadata": {
        "id": "sQEURQItt8At"
      },
      "source": [
        "!cat /etc/issue"
      ],
      "execution_count": null,
      "outputs": []
    },
    {
      "cell_type": "markdown",
      "metadata": {
        "id": "71f27BosIlQr"
      },
      "source": [
        "容量確認"
      ]
    },
    {
      "cell_type": "code",
      "metadata": {
        "id": "yj7TVBLAIkfe"
      },
      "source": [
        "!df -h"
      ],
      "execution_count": null,
      "outputs": []
    },
    {
      "cell_type": "markdown",
      "metadata": {
        "id": "rFMUW7NHIvlY"
      },
      "source": [
        "メモリ確認"
      ]
    },
    {
      "cell_type": "code",
      "metadata": {
        "id": "KP2tBZJKIrjO"
      },
      "source": [
        "!free -h"
      ],
      "execution_count": null,
      "outputs": []
    },
    {
      "cell_type": "code",
      "metadata": {
        "id": "C31SKLKDQr2n"
      },
      "source": [
        "!apt-get -q install lshw\n",
        "!lshw"
      ],
      "execution_count": null,
      "outputs": []
    },
    {
      "cell_type": "markdown",
      "metadata": {
        "id": "UEqTl_YXI4jb"
      },
      "source": [
        "CPUのスペック確認"
      ]
    },
    {
      "cell_type": "code",
      "metadata": {
        "id": "0r0IYkeJI6XV"
      },
      "source": [
        "!cat /proc/cpuinfo"
      ],
      "execution_count": null,
      "outputs": []
    },
    {
      "cell_type": "markdown",
      "metadata": {
        "id": "vACIcjW6I806"
      },
      "source": [
        "GPUのスペック確認\n",
        "（以下は ランタイム -> ランタイムのタイプを変更 -> ハードウェアアクセラレーションをGPUに設定して確認する）"
      ]
    },
    {
      "cell_type": "code",
      "metadata": {
        "id": "-8atxu7DJK43"
      },
      "source": [
        "!cat /proc/driver/nvidia/gpus/0000:00:04.0/information"
      ],
      "execution_count": null,
      "outputs": []
    },
    {
      "cell_type": "code",
      "metadata": {
        "id": "LizsvDAaJPtF"
      },
      "source": [
        "from tensorflow.python.client import device_lib\n",
        "device_lib.list_local_devices()"
      ],
      "execution_count": null,
      "outputs": []
    },
    {
      "cell_type": "markdown",
      "metadata": {
        "id": "GtzM5BJlLRkO"
      },
      "source": [
        "起動時間確認。Google Colabの時間制約に関しては、以下記事参照\n",
        "\n",
        "[【秒速で無料GPUを使う】深層学習実践Tips on Colaboratory](https://qiita.com/tomo_makes/items/b3c60b10f7b25a0a5935)"
      ]
    },
    {
      "cell_type": "code",
      "metadata": {
        "id": "6X2udCp-LS0_"
      },
      "source": [
        "!cat /proc/uptime | awk '{print $1 /60 /60 /24 \"days (\" $1 \"sec)\"}'"
      ],
      "execution_count": null,
      "outputs": []
    },
    {
      "cell_type": "markdown",
      "metadata": {
        "id": "wm2nVyM-vsfJ"
      },
      "source": [
        "## マジックコマンド\n",
        "\n",
        "最初に!をつけることで、Linuxのコマンドが使用可能。\n",
        "\n",
        "cdは!でなく%をつける"
      ]
    },
    {
      "cell_type": "markdown",
      "metadata": {
        "id": "RfRzbU5-JYWs"
      },
      "source": [
        "ディレクトリ作成"
      ]
    },
    {
      "cell_type": "code",
      "metadata": {
        "id": "JqBZYImnvuy3"
      },
      "source": [
        "!mkdir test"
      ],
      "execution_count": null,
      "outputs": []
    },
    {
      "cell_type": "markdown",
      "metadata": {
        "id": "PFRgPFKIKuE-"
      },
      "source": [
        "ファイル確認"
      ]
    },
    {
      "cell_type": "code",
      "metadata": {
        "id": "-xhItRBmH1u7"
      },
      "source": [
        "!ls"
      ],
      "execution_count": null,
      "outputs": []
    },
    {
      "cell_type": "markdown",
      "metadata": {
        "id": "Qb2qYJLpKvmm"
      },
      "source": [
        "ディレクトリ移動"
      ]
    },
    {
      "cell_type": "code",
      "metadata": {
        "id": "ob72I1VXH3W-"
      },
      "source": [
        "%cd test"
      ],
      "execution_count": null,
      "outputs": []
    },
    {
      "cell_type": "markdown",
      "metadata": {
        "id": "Kkn9TYGCKYMq"
      },
      "source": [
        "ファイルの作成"
      ]
    },
    {
      "cell_type": "code",
      "metadata": {
        "id": "wOozNhxNKdJw"
      },
      "source": [
        "!echo 'test' > test.txt"
      ],
      "execution_count": null,
      "outputs": []
    },
    {
      "cell_type": "markdown",
      "metadata": {
        "id": "dUHGitwXuzPr"
      },
      "source": [
        "## ライブラリ"
      ]
    },
    {
      "cell_type": "markdown",
      "metadata": {
        "id": "GND_oa3lMADr"
      },
      "source": [
        "ライブラリのバージョン指定のインストールです。とりあえず`==`で実行すれば、インストールできるバージョン候補が表示されます。"
      ]
    },
    {
      "cell_type": "code",
      "metadata": {
        "id": "iNQSMY2fMIzi"
      },
      "source": [
        "!pip install numpy=="
      ],
      "execution_count": null,
      "outputs": []
    },
    {
      "cell_type": "markdown",
      "source": [
        "必要なバージョンをインストールしましょう"
      ],
      "metadata": {
        "id": "0eK5d59v9wkz"
      }
    },
    {
      "cell_type": "code",
      "source": [
        "!pip install numpy==1.24.1"
      ],
      "metadata": {
        "id": "Ltjz7VTR9kkV"
      },
      "execution_count": null,
      "outputs": []
    },
    {
      "cell_type": "markdown",
      "metadata": {
        "id": "kbw4RSyLffJs"
      },
      "source": [
        "TensorFlowは、1.x系へのコマンド切り替えが `%tensorflow_version 1.x`でできましたが、今はできません。\n",
        "\n",
        "pipで直接バージョン指定してのインストールもできないようです。"
      ]
    },
    {
      "cell_type": "markdown",
      "metadata": {
        "id": "IYCtOkjevGzL"
      },
      "source": [
        "pythonのバージョン確認"
      ]
    },
    {
      "cell_type": "code",
      "metadata": {
        "id": "sENZUtsFu2na"
      },
      "source": [
        "import platform\n",
        "print(\"python \" + platform.python_version())"
      ],
      "execution_count": null,
      "outputs": []
    },
    {
      "cell_type": "markdown",
      "metadata": {
        "id": "aMzErKIfJn2A"
      },
      "source": [
        "インストールされている全てのライブラリとバージョンを確認"
      ]
    },
    {
      "cell_type": "code",
      "metadata": {
        "id": "jXykhTw4JouD"
      },
      "source": [
        "import pkg_resources\n",
        "for dist in pkg_resources.working_set:\n",
        "  print(dist)"
      ],
      "execution_count": null,
      "outputs": []
    },
    {
      "cell_type": "markdown",
      "metadata": {
        "id": "jUF4y2f9vKW-"
      },
      "source": [
        "バージョンを確認したいライブラリのリストを作成"
      ]
    },
    {
      "cell_type": "code",
      "metadata": {
        "id": "4XCkTdGlvLTf"
      },
      "source": [
        "pkglist = ['numpy', 'scikit-learn', 'matplotlib', 'seaborn', 'pandas']"
      ],
      "execution_count": null,
      "outputs": []
    },
    {
      "cell_type": "markdown",
      "metadata": {
        "id": "AzL3PP1evWWg"
      },
      "source": [
        "リストのバージョン確認"
      ]
    },
    {
      "cell_type": "code",
      "metadata": {
        "id": "j694ijwAvMIP"
      },
      "source": [
        "import pkg_resources\n",
        "\n",
        "for dist in pkg_resources.working_set:\n",
        "    if dist.project_name in pkglist:\n",
        "        print(dist.project_name, dist.version)"
      ],
      "execution_count": null,
      "outputs": []
    },
    {
      "cell_type": "markdown",
      "metadata": {
        "id": "5lRfF4wFJ-iH"
      },
      "source": [
        "## データのアップロード・ダウンロード"
      ]
    },
    {
      "cell_type": "markdown",
      "metadata": {
        "id": "OkOSc5DnKB1R"
      },
      "source": [
        "Google Colab上にデータをアップロード"
      ]
    },
    {
      "cell_type": "code",
      "metadata": {
        "id": "waGMqhdgKDwG"
      },
      "source": [
        "from google.colab import files\n",
        "uploaded = files.upload()"
      ],
      "execution_count": null,
      "outputs": []
    },
    {
      "cell_type": "markdown",
      "metadata": {
        "id": "hl9iDkCNKEtu"
      },
      "source": [
        "Google Colab上のデータのダウンロード\n",
        "（以下は、`test.txt` というファイルをダウンロード）"
      ]
    },
    {
      "cell_type": "code",
      "metadata": {
        "id": "horpSdSNKGUz"
      },
      "source": [
        "from google.colab import files\n",
        "files.download('test.txt')"
      ],
      "execution_count": null,
      "outputs": []
    },
    {
      "cell_type": "markdown",
      "metadata": {
        "id": "xLN2T4Pbcjpn"
      },
      "source": [
        "## Google Driveのデータを使用する"
      ]
    },
    {
      "cell_type": "markdown",
      "metadata": {
        "id": "QZAg_TLbcr8-"
      },
      "source": [
        "以下コマンドを実行すると、別ウィンドウが開くので、そちらでGoogle Driveの許可をしてください。"
      ]
    },
    {
      "cell_type": "code",
      "metadata": {
        "id": "8gmXcAVicUk3"
      },
      "source": [
        "from google.colab import drive\n",
        "drive.mount('/content/drive')"
      ],
      "execution_count": null,
      "outputs": []
    },
    {
      "cell_type": "markdown",
      "metadata": {
        "id": "vB6bgWL9ehRc"
      },
      "source": [
        "これでGoogle Driveが `/content/drive`以下にマウントされました。\n",
        "\n",
        "My Driveのファイルを、例えば以下コマンドで確認できます。"
      ]
    },
    {
      "cell_type": "code",
      "metadata": {
        "id": "Kiqe1368egO3"
      },
      "source": [
        "!ls '/content/drive/MyDrive'"
      ],
      "execution_count": null,
      "outputs": []
    },
    {
      "cell_type": "markdown",
      "metadata": {
        "id": "NkBkLXymfAud"
      },
      "source": [
        "ファイルが見えたら、後はcpコマンドで直接Google ColabとGooogle Drive間でデータをやりとりできます。"
      ]
    },
    {
      "cell_type": "markdown",
      "metadata": {
        "id": "HnQIv4_zMdYW"
      },
      "source": [
        "## 画像の表示"
      ]
    },
    {
      "cell_type": "markdown",
      "metadata": {
        "id": "6KdNad-YNGpe"
      },
      "source": [
        "サンプル画像をダウンロード"
      ]
    },
    {
      "cell_type": "code",
      "metadata": {
        "id": "Q8IRAjG3NI8v"
      },
      "source": [
        "!wget -O test.jpg https://raw.githubusercontent.com/wiki/karaage0703/python-image-processing/0007.jpg"
      ],
      "execution_count": null,
      "outputs": []
    },
    {
      "cell_type": "markdown",
      "metadata": {
        "id": "6k7pyzbvMfWa"
      },
      "source": [
        "IPython.displayを使う方法"
      ]
    },
    {
      "cell_type": "code",
      "metadata": {
        "id": "pjY2LSxJMgI_"
      },
      "source": [
        "from IPython.display import Image,display_jpeg\n",
        "display_jpeg(Image('test.jpg'))"
      ],
      "execution_count": null,
      "outputs": []
    },
    {
      "cell_type": "markdown",
      "metadata": {
        "id": "HV2XTATkMxlr"
      },
      "source": [
        "matplotlibを使う方法"
      ]
    },
    {
      "cell_type": "code",
      "metadata": {
        "id": "h2ZKBpqFMmJg"
      },
      "source": [
        "from PIL import Image\n",
        "from matplotlib.pyplot import imshow\n",
        "\n",
        "img = Image.open('test.jpg')\n",
        "imshow(img)"
      ],
      "execution_count": null,
      "outputs": []
    },
    {
      "cell_type": "markdown",
      "metadata": {
        "id": "v8lgUgtpN6q0"
      },
      "source": [
        "枠線を消したい場合は以下"
      ]
    },
    {
      "cell_type": "code",
      "metadata": {
        "id": "Bi20UcECN5n-"
      },
      "source": [
        "from matplotlib import pyplot as plt \n",
        "\n",
        "plt.imshow(img)\n",
        "plt.axis('off')\n",
        "plt.show()"
      ],
      "execution_count": null,
      "outputs": []
    },
    {
      "cell_type": "markdown",
      "metadata": {
        "id": "04c1P0LAuVbZ"
      },
      "source": [
        "## matplotlibで日本語使用"
      ]
    },
    {
      "cell_type": "markdown",
      "metadata": {
        "id": "Ls1iazgcuhk6"
      },
      "source": [
        "pip で日本語化モジュールをインストール"
      ]
    },
    {
      "cell_type": "code",
      "metadata": {
        "id": "zvnZTL_wtxLW"
      },
      "source": [
        "! pip install -qq japanize-matplotlib"
      ],
      "execution_count": null,
      "outputs": []
    },
    {
      "cell_type": "markdown",
      "metadata": {
        "id": "B_IJhiTFutVa"
      },
      "source": [
        "簡単なグラフを描く"
      ]
    },
    {
      "cell_type": "code",
      "metadata": {
        "id": "oLBLcQsWulnH"
      },
      "source": [
        "import matplotlib.pyplot as plt\n",
        "import japanize_matplotlib  # <- これ\n",
        "\n",
        "plt.plot([1, 2, 3, 4])\n",
        "plt.xlabel('簡単なグラフ')\n",
        "plt.show()"
      ],
      "execution_count": null,
      "outputs": []
    },
    {
      "cell_type": "markdown",
      "metadata": {
        "id": "vbKEWNkLK6kI"
      },
      "source": [
        "## 参考リンク\n",
        "\n",
        "[【秒速で無料GPUを使う】TensorfFow/Keras/PyTorch/Chainer環境構築 on Colaboratory](https://qiita.com/tomo_makes/items/f70fe48c428d3a61e131)\n",
        "\n",
        "[【秒速で無料GPUを使う】深層学習実践Tips on Colaboratory](https://qiita.com/tomo_makes/items/b3c60b10f7b25a0a5935)"
      ]
    }
  ]
}